{
 "cells": [
  {
   "cell_type": "code",
   "execution_count": 6,
   "id": "a17b3185",
   "metadata": {},
   "outputs": [
    {
     "name": "stdout",
     "output_type": "stream",
     "text": [
      "Error: el denominador no puede ser cero.\n",
      "Error: solo se permiten números enteros con formato X/Y.\n",
      "56%\n"
     ]
    }
   ],
   "source": [
    "def main():\n",
    "    while True:\n",
    "        try:\n",
    "            fraccion = input(\"Ingrese la cantidad de combustible (X/Y): \")\n",
    "            x, y = fraccion.strip().split(\"/\")\n",
    "            x = int(x)\n",
    "            y = int(y)\n",
    "            \n",
    "            if y == 0:\n",
    "                raise ZeroDivisionError\n",
    "            if x > y:\n",
    "                print(\"Error: el numerador no puede ser mayor que el denominador.\")\n",
    "                continue\n",
    "\n",
    "            porcentaje = round((x / y) * 100)\n",
    "            if porcentaje <= 1:\n",
    "                print(\"E\")\n",
    "            elif porcentaje >= 99:\n",
    "                print(\"F\")\n",
    "            else:\n",
    "                print(f\"{porcentaje}%\")\n",
    "            break\n",
    "\n",
    "        except ValueError:\n",
    "            print(\"Error: solo se permiten números enteros con formato X/Y.\")\n",
    "        except ZeroDivisionError:\n",
    "            print(\"Error: el denominador no puede ser cero.\")\n",
    "\n",
    "main()\n",
    "\n"
   ]
  },
  {
   "cell_type": "code",
   "execution_count": 7,
   "id": "9733ce2e",
   "metadata": {},
   "outputs": [
    {
     "name": "stdout",
     "output_type": "stream",
     "text": [
      "Error: Asegúrese de ingresar solo números enteros separados por comas.\n"
     ]
    }
   ],
   "source": [
    "def main():\n",
    "    entrada = input(\"Ingrese calificaciones separadas por comas: \")\n",
    "    calificaciones_str = entrada.split(\",\")\n",
    "    calificaciones = []\n",
    "\n",
    "    try:\n",
    "        for nota in calificaciones_str:\n",
    "            nota = nota.strip()  # elimina espacios en blanco\n",
    "            calificaciones.append(int(nota))\n",
    "        print(\"Calificaciones válidas:\", calificaciones)\n",
    "    except ValueError:\n",
    "        print(\"Error: Asegúrese de ingresar solo números enteros separados por comas.\")\n",
    "\n",
    "main()\n"
   ]
  },
  {
   "cell_type": "code",
   "execution_count": 8,
   "id": "874a6aa1",
   "metadata": {},
   "outputs": [
    {
     "name": "stdout",
     "output_type": "stream",
     "text": [
      "Área del círculo 1: 78.54\n",
      "Área del círculo 2: 28.27\n"
     ]
    }
   ],
   "source": [
    "import math\n",
    "class CIRCULO:\n",
    "    def __init__(self, radio):\n",
    "        self.radio = radio\n",
    "    def calcular_area(self):\n",
    "        return math.pi * (self.radio ** 2)\n",
    "\n",
    "circulo1 = CIRCULO(5)\n",
    "circulo2 = CIRCULO(3)\n",
    "\n",
    "\n",
    "print(f\"Área del círculo 1: {circulo1.calcular_area():.2f}\")\n",
    "print(f\"Área del círculo 2: {circulo2.calcular_area():.2f}\")\n"
   ]
  },
  {
   "cell_type": "code",
   "execution_count": 9,
   "id": "bf545a06",
   "metadata": {},
   "outputs": [
    {
     "name": "stdout",
     "output_type": "stream",
     "text": [
      "Área del rectángulo: 24\n",
      "Área del cuadrado: 25\n"
     ]
    }
   ],
   "source": [
    "class RECTANGULO:\n",
    "    def __init__(self, largo, ancho):\n",
    "        self.largo = largo\n",
    "        self.ancho = ancho\n",
    "    def calcular_area(self):\n",
    "        return self.largo * self.ancho\n",
    "\n",
    "class CUADRADO(RECTANGULO):\n",
    "    def __init__(self, lado):\n",
    "        super().__init__(lado, lado)\n",
    "\n",
    "rectangulo = RECTANGULO(6, 4)\n",
    "print(f\"Área del rectángulo: {rectangulo.calcular_area()}\")\n",
    "\n",
    "cuadrado = CUADRADO(5)\n",
    "print(f\"Área del cuadrado: {cuadrado.calcular_area()}\")\n"
   ]
  },
  {
   "cell_type": "code",
   "execution_count": 14,
   "id": "d6bbff26",
   "metadata": {},
   "outputs": [
    {
     "name": "stdout",
     "output_type": "stream",
     "text": [
      "Collecting requests\n",
      "  Downloading requests-2.32.4-py3-none-any.whl.metadata (4.9 kB)\n",
      "Collecting charset_normalizer<4,>=2 (from requests)\n",
      "  Downloading charset_normalizer-3.4.2-cp312-cp312-manylinux_2_17_x86_64.manylinux2014_x86_64.whl.metadata (35 kB)\n",
      "Collecting idna<4,>=2.5 (from requests)\n",
      "  Downloading idna-3.10-py3-none-any.whl.metadata (10 kB)\n",
      "Collecting urllib3<3,>=1.21.1 (from requests)\n",
      "  Downloading urllib3-2.5.0-py3-none-any.whl.metadata (6.5 kB)\n",
      "Collecting certifi>=2017.4.17 (from requests)\n",
      "  Downloading certifi-2025.7.9-py3-none-any.whl.metadata (2.4 kB)\n",
      "Downloading requests-2.32.4-py3-none-any.whl (64 kB)\n",
      "Downloading charset_normalizer-3.4.2-cp312-cp312-manylinux_2_17_x86_64.manylinux2014_x86_64.whl (148 kB)\n",
      "Downloading idna-3.10-py3-none-any.whl (70 kB)\n",
      "Downloading urllib3-2.5.0-py3-none-any.whl (129 kB)\n",
      "Downloading certifi-2025.7.9-py3-none-any.whl (159 kB)\n",
      "Installing collected packages: urllib3, idna, charset_normalizer, certifi, requests\n",
      "\u001b[2K   \u001b[90m━━━━━━━━━━━━━━━━━━━━━━━━━━━━━━━━━━━━━━━━\u001b[0m \u001b[32m5/5\u001b[0m [requests]1/5\u001b[0m [idna]\n",
      "\u001b[1A\u001b[2KSuccessfully installed certifi-2025.7.9 charset_normalizer-3.4.2 idna-3.10 requests-2.32.4 urllib3-2.5.0\n"
     ]
    }
   ],
   "source": [
    "!pip install requests\n"
   ]
  },
  {
   "cell_type": "code",
   "execution_count": 18,
   "id": "216c2622",
   "metadata": {},
   "outputs": [
    {
     "name": "stdout",
     "output_type": "stream",
     "text": [
      "Error al obtener datos del mes 2: 429 Client Error: Too Many Requests for url: https://api.apis.net.pe/v1/tipo-cambio-sunat?month=2&year=2025\n",
      "Error al obtener datos del mes 3: 429 Client Error: Too Many Requests for url: https://api.apis.net.pe/v1/tipo-cambio-sunat?month=3&year=2025\n",
      "Error al obtener datos del mes 4: 429 Client Error: Too Many Requests for url: https://api.apis.net.pe/v1/tipo-cambio-sunat?month=4&year=2025\n",
      "Error al obtener datos del mes 5: 429 Client Error: Too Many Requests for url: https://api.apis.net.pe/v1/tipo-cambio-sunat?month=5&year=2025\n",
      "Error al obtener datos del mes 6: 429 Client Error: Too Many Requests for url: https://api.apis.net.pe/v1/tipo-cambio-sunat?month=6&year=2025\n",
      "Error al obtener datos del mes 7: 429 Client Error: Too Many Requests for url: https://api.apis.net.pe/v1/tipo-cambio-sunat?month=7&year=2025\n",
      "Error al obtener datos del mes 8: 429 Client Error: Too Many Requests for url: https://api.apis.net.pe/v1/tipo-cambio-sunat?month=8&year=2025\n",
      "Error al obtener datos del mes 9: 429 Client Error: Too Many Requests for url: https://api.apis.net.pe/v1/tipo-cambio-sunat?month=9&year=2025\n",
      "Error al obtener datos del mes 10: 429 Client Error: Too Many Requests for url: https://api.apis.net.pe/v1/tipo-cambio-sunat?month=10&year=2025\n",
      "Error al obtener datos del mes 11: 429 Client Error: Too Many Requests for url: https://api.apis.net.pe/v1/tipo-cambio-sunat?month=11&year=2025\n",
      "\n",
      "Fecha con valor mínimo de compra (3.706):\n",
      "- 2025-01-25\n",
      "- 2025-01-26\n",
      "- 2025-01-27\n",
      "\n",
      "Fecha con valor máximo de venta (3.785):\n",
      "- 2025-01-14\n",
      "\n",
      "Fecha con mayor diferencia compra-venta (0.0140):\n",
      "- 2025-01-21\n"
     ]
    }
   ],
   "source": [
    "import requests\n",
    "\n",
    "def obtener_tipos_cambio_2025():\n",
    "    datos_totales = []\n",
    "\n",
    "    for mes in range(1, 13):  # De enero (1) a diciembre (12)\n",
    "        url = f\"https://api.apis.net.pe/v1/tipo-cambio-sunat?month={mes}&year=2025\"\n",
    "        try:\n",
    "            respuesta = requests.get(url)\n",
    "            respuesta.raise_for_status()  # Lanza error si la respuesta es incorrecta\n",
    "            datos_mes = respuesta.json()\n",
    "            datos_totales.extend(datos_mes)\n",
    "        except requests.RequestException as e:\n",
    "            print(f\"Error al obtener datos del mes {mes}: {e}\")\n",
    "\n",
    "    return datos_totales\n",
    "\n",
    "def analizar_tipos_cambio(data):\n",
    "    if not data:\n",
    "        print(\"No hay datos disponibles.\")\n",
    "        return\n",
    "    min_compra = min(data, key=lambda x: x['compra'])['compra']\n",
    "    max_venta = max(data, key=lambda x: x['venta'])['venta']\n",
    "    max_diferencia = max(data, key=lambda x: x['venta'] - x['compra'])\n",
    "    diferencia_max = max_diferencia['venta'] - max_diferencia['compra']\n",
    "\n",
    "    fechas_min_compra = [d['fecha'] for d in data if d['compra'] == min_compra]\n",
    "    fechas_max_venta = [d['fecha'] for d in data if d['venta'] == max_venta]\n",
    "    fechas_max_diferencia = [d['fecha'] for d in data if (d['venta'] - d['compra']) == diferencia_max]\n",
    "    print(f\"\\nFecha con valor mínimo de compra ({min_compra}):\")\n",
    "    for fecha in fechas_min_compra:\n",
    "        print(f\"- {fecha}\")\n",
    "\n",
    "    print(f\"\\nFecha con valor máximo de venta ({max_venta}):\")\n",
    "    for fecha in fechas_max_venta:\n",
    "        print(f\"- {fecha}\")\n",
    "\n",
    "    print(f\"\\nFecha con mayor diferencia compra-venta ({diferencia_max:.4f}):\")\n",
    "    for fecha in fechas_max_diferencia:\n",
    "        print(f\"- {fecha}\")\n",
    "\n",
    "datos = obtener_tipos_cambio_2025()\n",
    "analizar_tipos_cambio(datos)\n"
   ]
  },
  {
   "cell_type": "code",
   "execution_count": 17,
   "id": "9e115c26",
   "metadata": {},
   "outputs": [
    {
     "name": "stdout",
     "output_type": "stream",
     "text": [
      "Collecting pyfiglet\n",
      "  Downloading pyfiglet-1.0.3-py3-none-any.whl.metadata (7.4 kB)\n",
      "Downloading pyfiglet-1.0.3-py3-none-any.whl (1.1 MB)\n",
      "\u001b[2K   \u001b[90m━━━━━━━━━━━━━━━━━━━━━━━━━━━━━━━━━━━━━━━━\u001b[0m \u001b[32m1.1/1.1 MB\u001b[0m \u001b[31m14.6 MB/s\u001b[0m eta \u001b[36m0:00:00\u001b[0m\n",
      "\u001b[?25hInstalling collected packages: pyfiglet\n",
      "Successfully installed pyfiglet-1.0.3\n"
     ]
    }
   ],
   "source": [
    "!pip install pyfiglet\n"
   ]
  },
  {
   "cell_type": "code",
   "execution_count": 22,
   "id": "22190563",
   "metadata": {},
   "outputs": [
    {
     "name": "stdout",
     "output_type": "stream",
     "text": [
      "Fuente no válida. Se usará una fuente aleatoria.\n",
      "\n",
      "####     ######   ##   ####     \n",
      " ###     ###### ###### ## ###   \n",
      " # ###   ###### ###### ## # ### \n",
      "## ###   ###### ###### #### ### \n",
      "#### #   ###### ###### ######## \n",
      "#### ### ###### ######   ###### \n",
      "  ###### ###### ######     #### \n",
      "  ###### ###### ######     #### \n",
      "\n"
     ]
    }
   ],
   "source": [
    "import random\n",
    "from pyfiglet import Figlet\n",
    "\n",
    "def main():\n",
    "    figlet = Figlet()\n",
    "    fuentes_disponibles = figlet.getFonts()\n",
    "\n",
    "    # Solicitar fuente al usuario\n",
    "    fuente_usuario = input(\"Ingrese el nombre de la fuente (o presione Enter para elegir una aleatoria): \").strip()\n",
    "\n",
    "    if fuente_usuario == \"\":\n",
    "        fuente_seleccionada = random.choice(fuentes_disponibles)\n",
    "        print(f\"Fuente aleatoria seleccionada: {fuente_seleccionada}\")\n",
    "    elif fuente_usuario in fuentes_disponibles:\n",
    "        fuente_seleccionada = fuente_usuario\n",
    "    else:\n",
    "        print(\"Fuente no válida. Se usará una fuente aleatoria.\")\n",
    "        fuente_seleccionada = random.choice(fuentes_disponibles)\n",
    "\n",
    "    figlet.setFont(font=fuente_seleccionada)\n",
    "\n",
    "    # Solicitar texto\n",
    "    texto = input(\"Ingrese el texto que desea imprimir: \")\n",
    "    print(\"\\n\" + figlet.renderText(texto))\n",
    "\n",
    "if __name__ == \"__main__\":\n",
    "    main()\n"
   ]
  }
 ],
 "metadata": {
  "kernelspec": {
   "display_name": ".venv",
   "language": "python",
   "name": "python3"
  },
  "language_info": {
   "codemirror_mode": {
    "name": "ipython",
    "version": 3
   },
   "file_extension": ".py",
   "mimetype": "text/x-python",
   "name": "python",
   "nbconvert_exporter": "python",
   "pygments_lexer": "ipython3",
   "version": "3.12.3"
  }
 },
 "nbformat": 4,
 "nbformat_minor": 5
}
